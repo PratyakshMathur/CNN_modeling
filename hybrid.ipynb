{
 "cells": [
  {
   "cell_type": "code",
   "execution_count": 1,
   "metadata": {},
   "outputs": [],
   "source": [
    "import torch\n",
    "import torch.nn as nn\n",
    "import torch.optim as optim\n",
    "from torchvision import datasets, transforms\n",
    "from torch.utils.data import DataLoader\n",
    "from tqdm import tqdm \n",
    "import matplotlib.pyplot as plt\n",
    "import numpy as np"
   ]
  },
  {
   "cell_type": "code",
   "execution_count": 2,
   "metadata": {},
   "outputs": [],
   "source": [
    "# Define the CNN model\n",
    "class SCNN(nn.Sequential):\n",
    "    def __init__(self):\n",
    "        super(SCNN, self).__init__(\n",
    "            nn.Conv2d(3, 16, kernel_size=3, padding=1),\n",
    "            nn.ReLU(),\n",
    "            nn.MaxPool2d(2, 2),\n",
    "            nn.Conv2d(16, 32, kernel_size=3, padding=1),\n",
    "            nn.ReLU(),\n",
    "            nn.MaxPool2d(2, 2),\n",
    "            nn.Conv2d(32, 64, kernel_size=3, padding=1),\n",
    "            nn.ReLU(),\n",
    "            nn.MaxPool2d(2, 2),\n",
    "            nn.Flatten(),\n",
    "            nn.Linear(64 * 20 * 20, 128),\n",
    "            nn.ReLU(),\n",
    "            nn.Linear(128, 10)\n",
    "        )\n",
    "class regCNN(nn.Sequential):\n",
    "    def __init__(self):\n",
    "        super(regCNN, self).__init__(\n",
    "            nn.Conv2d(3, 16, kernel_size=3, padding=1),\n",
    "            nn.ReLU(),\n",
    "            nn.MaxPool2d(2, 2),\n",
    "            nn.Conv2d(16, 32, kernel_size=3, padding=1),\n",
    "            nn.ReLU(),\n",
    "            nn.MaxPool2d(2, 2),\n",
    "            nn.Conv2d(32, 64, kernel_size=3, padding=1),\n",
    "            nn.ReLU(),\n",
    "            nn.Dropout2d(0.25),\n",
    "            nn.MaxPool2d(2, 2),\n",
    "            nn.Flatten(),\n",
    "            nn.Linear(64 * 20 * 20, 128),\n",
    "            nn.ReLU(),\n",
    "            nn.Dropout(0.5),\n",
    "            nn.Linear(128, 10)\n",
    "        )\n",
    "    \n"
   ]
  },
  {
   "cell_type": "code",
   "execution_count": 9,
   "metadata": {},
   "outputs": [],
   "source": [
    "import torch\n",
    "import torch.nn as nn\n",
    "from tqdm import tqdm\n",
    "import numpy as np\n",
    "\n",
    "class PSO:\n",
    "    def __init__(self, model, loss_fn, train_loader, num_particles=10, lr=0.1, inertia=0.5, c1=1.5, c2=1.5):\n",
    "        self.model = model\n",
    "        self.loss_fn = loss_fn\n",
    "        self.train_loader = train_loader\n",
    "        self.num_particles = num_particles\n",
    "        self.lr = lr\n",
    "        self.inertia = inertia\n",
    "        self.c1 = c1\n",
    "        self.c2 = c2\n",
    "        \n",
    "        self.param_shapes = [p.shape for p in model.parameters()]\n",
    "        self.param_size = sum(p.numel() for p in model.parameters())\n",
    "\n",
    "        self.swarm_pos = [torch.randn(self.param_size) for _ in range(num_particles)]\n",
    "        self.swarm_vel = [torch.randn(self.param_size) * 0.1 for _ in range(num_particles)]\n",
    "        self.pbest_pos = self.swarm_pos.copy()\n",
    "        self.pbest_scores = [float('inf')] * num_particles\n",
    "        self.gbest_pos = None\n",
    "        self.gbest_score = float('inf')\n",
    "\n",
    "    def _set_model_params(self, flat_params):\n",
    "        idx = 0\n",
    "        with torch.no_grad():\n",
    "            for p in self.model.parameters():\n",
    "                numel = p.numel()\n",
    "                p.copy_(flat_params[idx:idx+numel].view(p.shape))\n",
    "                idx += numel\n",
    "\n",
    "    def _evaluate(self, flat_params):\n",
    "        self._set_model_params(flat_params)\n",
    "        self.model.eval()\n",
    "        loss_total = 0.0\n",
    "        with torch.no_grad():\n",
    "            for images, labels in self.train_loader:\n",
    "                images, labels = images.to(device), labels.to(device)\n",
    "                outputs = self.model(images)\n",
    "                loss = self.loss_fn(outputs, labels)\n",
    "                loss_total += loss.item()\n",
    "        return loss_total / len(self.train_loader)\n",
    "\n",
    "    def step(self):\n",
    "        for i in range(self.num_particles):\n",
    "            fitness = self._evaluate(self.swarm_pos[i])\n",
    "\n",
    "            # Update personal best\n",
    "            if fitness < self.pbest_scores[i]:\n",
    "                self.pbest_scores[i] = fitness\n",
    "                self.pbest_pos[i] = self.swarm_pos[i].clone()\n",
    "\n",
    "            # Update global best\n",
    "            if fitness < self.gbest_score:\n",
    "                self.gbest_score = fitness\n",
    "                self.gbest_pos = self.swarm_pos[i].clone()\n",
    "\n",
    "        for i in range(self.num_particles):\n",
    "            r1 = torch.rand(self.param_size)\n",
    "            r2 = torch.rand(self.param_size)\n",
    "            cognitive = self.c1 * r1 * (self.pbest_pos[i] - self.swarm_pos[i])\n",
    "            social = self.c2 * r2 * (self.gbest_pos - self.swarm_pos[i])\n",
    "            self.swarm_vel[i] = self.inertia * self.swarm_vel[i] + cognitive + social\n",
    "            self.swarm_pos[i] += self.lr * self.swarm_vel[i]\n",
    "\n",
    "        # Set model to best found so far\n",
    "        self._set_model_params(self.gbest_pos)"
   ]
  },
  {
   "cell_type": "code",
   "execution_count": 10,
   "metadata": {},
   "outputs": [
    {
     "name": "stdout",
     "output_type": "stream",
     "text": [
      "Using MPS (M3 Pro GPU)\n"
     ]
    }
   ],
   "source": [
    "# Device setup for M3 Pro\n",
    "if torch.backends.mps.is_available() and torch.backends.mps.is_built():\n",
    "    device = torch.device(\"mps\")\n",
    "    print(\"Using MPS (M3 Pro GPU)\")\n",
    "else:\n",
    "    device = torch.device(\"cpu\")\n",
    "    print(\"Using CPU (MPS not available)\")"
   ]
  },
  {
   "cell_type": "code",
   "execution_count": 11,
   "metadata": {},
   "outputs": [],
   "source": [
    "def train_with_pso(model, num_epochs, patience, train_loader, val_loader, model_path):\n",
    "    best_val_loss = float('inf')\n",
    "    patience_counter = 0\n",
    "    criterion = nn.CrossEntropyLoss()\n",
    "    pso = PSO(model, criterion, train_loader)\n",
    "    train_loss_arr = []\n",
    "    val_loss_arr = []\n",
    "\n",
    "    for epoch in range(num_epochs):\n",
    "        print(f\"\\nEpoch [{epoch+1}/{num_epochs}] PSO optimizing...\")\n",
    "        pso.step()  # run one step of PSO (i.e., update all particles)\n",
    "        \n",
    "        # Evaluate best model\n",
    "        model.eval()\n",
    "        val_loss = 0.0\n",
    "        correct = 0\n",
    "        total = 0\n",
    "        with torch.no_grad():\n",
    "            for images, labels in val_loader:\n",
    "                images, labels = images.to(device), labels.to(device)\n",
    "                outputs = model(images)\n",
    "                loss = criterion(outputs, labels)\n",
    "                val_loss += loss.item()\n",
    "                _, predicted = torch.max(outputs, 1)\n",
    "                total += labels.size(0)\n",
    "                correct += (predicted == labels).sum().item()\n",
    "        \n",
    "        val_loss /= len(val_loader)\n",
    "        accuracy = 100 * correct / total\n",
    "        val_loss_arr.append(val_loss)\n",
    "        train_loss_arr.append(pso.gbest_score)\n",
    "        print(f\"Validation Loss: {val_loss:.4f}, Accuracy: {accuracy:.2f}%, Best Val Loss: {best_val_loss:.2f}\")\n",
    "\n",
    "        if val_loss < best_val_loss:\n",
    "            best_val_loss = val_loss\n",
    "            patience_counter = 0\n",
    "            torch.save(model.state_dict(), f'{model_path}best.pth')\n",
    "        else:\n",
    "            patience_counter += 1\n",
    "            if patience_counter >= patience:\n",
    "                print(\"Early stopping triggered.\")\n",
    "                break\n",
    "\n",
    "    return train_loss_arr, val_loss_arr"
   ]
  },
  {
   "cell_type": "code",
   "execution_count": 12,
   "metadata": {},
   "outputs": [],
   "source": [
    "def train(model,num_epochs,patience,train_loader,val_loader,model_path):\n",
    "    best_val_loss = float('inf')\n",
    "    patience_counter = 0\n",
    "    criterion = nn.CrossEntropyLoss()\n",
    "    optimizer = optim.Adam(model.parameters(), lr=0.001)\n",
    "    train_loss_arr =[]\n",
    "    val_loss_arr = []\n",
    "    for epoch in range(num_epochs):\n",
    "        model.train()\n",
    "        running_loss = 0.0\n",
    "        train_loop = tqdm(train_loader, desc=f\"Epoch [{epoch+1}/{num_epochs}]\")\n",
    "        for images, labels in train_loop:\n",
    "            images, labels = images.to(device), labels.to(device)\n",
    "            optimizer.zero_grad()\n",
    "            outputs = model(images)\n",
    "            loss = criterion(outputs, labels)\n",
    "            loss.backward()\n",
    "            optimizer.step()\n",
    "            running_loss += loss.item()\n",
    "            train_loop.set_postfix(loss=running_loss / (train_loop.n + 1))\n",
    "        \n",
    "        avg_loss = running_loss / len(train_loader)\n",
    "        train_loss_arr.append(avg_loss)\n",
    "        print(f\"Epoch [{epoch+1}/{num_epochs}], Training Loss: {avg_loss:.4f}\")\n",
    "\n",
    "        # Validation\n",
    "        model.eval()\n",
    "        val_loss = 0.0\n",
    "        correct = 0\n",
    "        total = 0\n",
    "        with torch.no_grad():\n",
    "            for images, labels in val_loader:\n",
    "                images, labels = images.to(device), labels.to(device)\n",
    "                outputs = model(images)\n",
    "                loss = criterion(outputs, labels)\n",
    "                val_loss += loss.item()\n",
    "                _, predicted = torch.max(outputs, 1)\n",
    "                total += labels.size(0)\n",
    "                correct += (predicted == labels).sum().item()\n",
    "        \n",
    "        val_loss /= len(val_loader)\n",
    "        val_loss_arr.append(val_loss)\n",
    "        accuracy = 100 * correct / total\n",
    "        print(f\"Validation Loss: {val_loss:.4f}, Accuracy: {accuracy:.2f}% , Best Val Loss: {best_val_loss:.2f}\")\n",
    "\n",
    "        # Early stopping check\n",
    "        if val_loss < best_val_loss:\n",
    "            best_val_loss = val_loss\n",
    "            patience_counter = 0\n",
    "            torch.save(model.state_dict(), f'{model_path}best.pth')\n",
    "            # print(\"Best Model saved successfully!\")\n",
    "        else:\n",
    "            patience_counter += 1\n",
    "            if patience_counter >= patience:\n",
    "                print(\"Early stopping triggered. Training stopped.\")\n",
    "                break\n",
    "    return train_loss_arr,val_loss_arr"
   ]
  },
  {
   "cell_type": "code",
   "execution_count": 13,
   "metadata": {},
   "outputs": [],
   "source": [
    "def test(model_class ,model_path,val_loader):\n",
    "    model = model_class\n",
    "    model.load_state_dict(torch.load(model_path, map_location=device)) \n",
    "    model.to(device)\n",
    "    model.eval()\n",
    "    correct = 0\n",
    "    total = 0\n",
    "\n",
    "    with torch.no_grad():\n",
    "        for images, labels in val_loader:\n",
    "            images, labels = images.to(device), labels.to(device)\n",
    "            outputs = model(images)\n",
    "            _, predicted = torch.max(outputs, 1)\n",
    "            total += labels.size(0)\n",
    "            correct += (predicted == labels).sum().item()\n",
    "\n",
    "    accuracy = 100 * correct / total\n",
    "    print(f\"Validation Accuracy: {accuracy:.2f}%\")"
   ]
  },
  {
   "cell_type": "code",
   "execution_count": 14,
   "metadata": {},
   "outputs": [],
   "source": [
    "def plot(array,filename):\n",
    "    epochs = np.arange(len(array))  # Epochs are the indices of the array\n",
    "    plt.figure(figsize=(10, 6))\n",
    "    plt.plot(epochs, array, marker='o', linestyle='-')\n",
    "    plt.title('Average Loss vs. Epoch')\n",
    "    plt.xlabel('Epoch')\n",
    "    plt.ylabel('Average Loss')\n",
    "    plt.grid(True)\n",
    "    plt.savefig(f'plots/{filename}.png')\n",
    "    plt.close() "
   ]
  },
  {
   "cell_type": "markdown",
   "metadata": {},
   "source": [
    "# Simple"
   ]
  },
  {
   "cell_type": "code",
   "execution_count": 7,
   "metadata": {},
   "outputs": [],
   "source": [
    "simple_transform = transforms.Compose([\n",
    "    transforms.Resize((160, 160)),\n",
    "    transforms.ToTensor(),\n",
    "    transforms.Normalize(mean=[0.5, 0.5, 0.5], std=[0.5, 0.5, 0.5])\n",
    "])\n",
    "\n",
    "\n",
    "# Load Imagenette dataset\n",
    "qual = '160px'\n",
    "folder = f'./data/Simple{qual}/'\n",
    "train_dataset = datasets.Imagenette(root=folder, split='train', size=qual, download=True, transform=simple_transform)\n",
    "val_dataset = datasets.Imagenette(root=folder, split='val', size=qual, download=True, transform=simple_transform)\n",
    "\n",
    "train_loader = DataLoader(train_dataset, batch_size=64, shuffle=True, num_workers=4, pin_memory=True)\n",
    "val_loader = DataLoader(val_dataset, batch_size=64, shuffle=False, num_workers=4, pin_memory=True)\n",
    "\n"
   ]
  },
  {
   "cell_type": "code",
   "execution_count": null,
   "metadata": {},
   "outputs": [],
   "source": [
    "model = SCNN().to(device)\n",
    "train_loss_arr,val_loss_arr = train_with_pso(model,5,1,train_loader,val_loader,'./model/PSO/')\n",
    "plot(train_loss_arr,'Simple_Train_loss')\n",
    "plot(val_loss_arr,'Simple_Val_loss')\n"
   ]
  },
  {
   "cell_type": "code",
   "execution_count": null,
   "metadata": {},
   "outputs": [
    {
     "name": "stdout",
     "output_type": "stream",
     "text": [
      "Validation Accuracy: 63.49%\n"
     ]
    }
   ],
   "source": [
    "test(SCNN(),'./model/Simple/best.pth',val_loader)"
   ]
  },
  {
   "cell_type": "markdown",
   "metadata": {},
   "source": [
    "# Regularisation"
   ]
  },
  {
   "cell_type": "code",
   "execution_count": 15,
   "metadata": {},
   "outputs": [],
   "source": [
    "# Define transforms\n",
    "reg_transform = transforms.Compose([\n",
    "    transforms.Resize((160, 160)),\n",
    "    transforms.RandomHorizontalFlip(),\n",
    "    transforms.RandomRotation(degrees=15),  \n",
    "    transforms.ColorJitter( brightness=0.2, contrast=0.2, saturation=0.2, hue=0.1),  \n",
    "    transforms.ToTensor(),\n",
    "    transforms.Normalize(mean=[0.5, 0.5, 0.5], std=[0.5, 0.5, 0.5])\n",
    "])\n",
    "\n",
    "\n",
    "# Load Imagenette dataset\n",
    "qual = '160px'\n",
    "folder = f'./data/reg{qual}/'\n",
    "train_dataset_reg = datasets.Imagenette(root=folder, split='train', size=qual, download=True, transform=reg_transform)\n",
    "val_dataset_reg = datasets.Imagenette(root=folder, split='val', size=qual, download=True, transform=reg_transform)\n",
    "\n",
    "train_loader_reg = DataLoader(train_dataset_reg, batch_size=64, shuffle=True, num_workers=4, pin_memory=True)\n",
    "val_loader_reg = DataLoader(val_dataset_reg, batch_size=64, shuffle=False, num_workers=4, pin_memory=True)\n",
    "\n"
   ]
  },
  {
   "cell_type": "code",
   "execution_count": 17,
   "metadata": {},
   "outputs": [
    {
     "name": "stdout",
     "output_type": "stream",
     "text": [
      "\n",
      "Epoch [1/5] PSO optimizing...\n",
      "Validation Loss: 453088.4250, Accuracy: 9.53%, Best Val Loss: inf\n",
      "\n",
      "Epoch [2/5] PSO optimizing...\n",
      "Validation Loss: 379957.2857, Accuracy: 8.25%, Best Val Loss: 453088.43\n",
      "\n",
      "Epoch [3/5] PSO optimizing...\n",
      "Validation Loss: 255019.2958, Accuracy: 11.57%, Best Val Loss: 379957.29\n",
      "\n",
      "Epoch [4/5] PSO optimizing...\n",
      "Validation Loss: 154827.1638, Accuracy: 8.64%, Best Val Loss: 255019.30\n",
      "\n",
      "Epoch [5/5] PSO optimizing...\n",
      "Validation Loss: 81036.8987, Accuracy: 10.93%, Best Val Loss: 154827.16\n"
     ]
    }
   ],
   "source": [
    "model2 = regCNN().to(device)\n",
    "\n",
    "train_loss_arr,val_loss_arr = train_with_pso(model2,5,5,train_loader_reg,val_loader_reg,'./model/PSO/')\n",
    "plot(train_loss_arr,'RegP_Train_loss')\n",
    "plot(val_loss_arr,'RegP_Val_loss')"
   ]
  },
  {
   "cell_type": "code",
   "execution_count": null,
   "metadata": {},
   "outputs": [
    {
     "name": "stdout",
     "output_type": "stream",
     "text": [
      "Validation Accuracy: 67.90%\n"
     ]
    }
   ],
   "source": [
    "test(regCNN(),'./model/Reg/best.pth',val_loader_reg)"
   ]
  },
  {
   "cell_type": "markdown",
   "metadata": {},
   "source": [
    "# Transfer Learning"
   ]
  },
  {
   "cell_type": "code",
   "execution_count": null,
   "metadata": {},
   "outputs": [],
   "source": [
    "cifar_transform = transforms.Compose([\n",
    "    transforms.Resize((160, 160)),\n",
    "    transforms.RandomHorizontalFlip(),\n",
    "    transforms.RandomRotation(degrees=15),  \n",
    "    transforms.ColorJitter( brightness=0.2, contrast=0.2, saturation=0.2, hue=0.1),  \n",
    "    transforms.ToTensor(),\n",
    "    transforms.Normalize(mean=[0.5, 0.5, 0.5], std=[0.5, 0.5, 0.5])\n",
    "])\n",
    "\n",
    "\n",
    "cifar_train = datasets.CIFAR10(root='./data/cifar/', train=True, download=True, transform=cifar_transform)\n",
    "\n",
    "\n",
    "cifar_test = datasets.CIFAR10(root='./data/cifar/', train=False, download=True, transform=cifar_transform)\n",
    "\n",
    "\n",
    "cifar_train_loader = DataLoader(cifar_train, batch_size=64, shuffle=True)\n",
    "cifar_test_loader = DataLoader(cifar_test, batch_size=64, shuffle=False)"
   ]
  },
  {
   "cell_type": "code",
   "execution_count": null,
   "metadata": {},
   "outputs": [
    {
     "name": "stderr",
     "output_type": "stream",
     "text": [
      "Epoch [1/10]: 100%|██████████| 782/782 [01:12<00:00, 10.84it/s, loss=1.97]\n"
     ]
    },
    {
     "name": "stdout",
     "output_type": "stream",
     "text": [
      "Epoch [1/10], Training Loss: 1.9654\n",
      "Validation Loss: 1.6052, Accuracy: 42.70% , Best Val Loss: inf\n"
     ]
    },
    {
     "name": "stderr",
     "output_type": "stream",
     "text": [
      "Epoch [2/10]: 100%|██████████| 782/782 [01:11<00:00, 10.89it/s, loss=1.74]\n"
     ]
    },
    {
     "name": "stdout",
     "output_type": "stream",
     "text": [
      "Epoch [2/10], Training Loss: 1.7377\n",
      "Validation Loss: 1.5422, Accuracy: 46.56% , Best Val Loss: 1.61\n"
     ]
    },
    {
     "name": "stderr",
     "output_type": "stream",
     "text": [
      "Epoch [3/10]: 100%|██████████| 782/782 [05:21<00:00,  2.43it/s, loss=1.68]\n"
     ]
    },
    {
     "name": "stdout",
     "output_type": "stream",
     "text": [
      "Epoch [3/10], Training Loss: 1.6792\n",
      "Validation Loss: 1.4796, Accuracy: 48.20% , Best Val Loss: 1.54\n"
     ]
    },
    {
     "name": "stderr",
     "output_type": "stream",
     "text": [
      "Epoch [4/10]: 100%|██████████| 782/782 [01:12<00:00, 10.75it/s, loss=1.65]\n"
     ]
    },
    {
     "name": "stdout",
     "output_type": "stream",
     "text": [
      "Epoch [4/10], Training Loss: 1.6456\n",
      "Validation Loss: 1.4487, Accuracy: 49.62% , Best Val Loss: 1.48\n"
     ]
    },
    {
     "name": "stderr",
     "output_type": "stream",
     "text": [
      "Epoch [5/10]: 100%|██████████| 782/782 [02:32<00:00,  5.12it/s, loss=1.62]  \n"
     ]
    },
    {
     "name": "stdout",
     "output_type": "stream",
     "text": [
      "Epoch [5/10], Training Loss: 1.6229\n",
      "Validation Loss: 1.4257, Accuracy: 49.69% , Best Val Loss: 1.45\n"
     ]
    },
    {
     "name": "stderr",
     "output_type": "stream",
     "text": [
      "Epoch [6/10]: 100%|██████████| 782/782 [01:12<00:00, 10.78it/s, loss=1.6] \n"
     ]
    },
    {
     "name": "stdout",
     "output_type": "stream",
     "text": [
      "Epoch [6/10], Training Loss: 1.5977\n",
      "Validation Loss: 1.3965, Accuracy: 50.90% , Best Val Loss: 1.43\n"
     ]
    },
    {
     "name": "stderr",
     "output_type": "stream",
     "text": [
      "Epoch [7/10]: 100%|██████████| 782/782 [01:12<00:00, 10.76it/s, loss=1.59]\n"
     ]
    },
    {
     "name": "stdout",
     "output_type": "stream",
     "text": [
      "Epoch [7/10], Training Loss: 1.5922\n",
      "Validation Loss: 1.3954, Accuracy: 51.29% , Best Val Loss: 1.40\n"
     ]
    },
    {
     "name": "stderr",
     "output_type": "stream",
     "text": [
      "Epoch [8/10]: 100%|██████████| 782/782 [01:12<00:00, 10.77it/s, loss=1.58]\n"
     ]
    },
    {
     "name": "stdout",
     "output_type": "stream",
     "text": [
      "Epoch [8/10], Training Loss: 1.5794\n",
      "Validation Loss: 1.3774, Accuracy: 51.47% , Best Val Loss: 1.40\n"
     ]
    },
    {
     "name": "stderr",
     "output_type": "stream",
     "text": [
      "Epoch [9/10]: 100%|██████████| 782/782 [01:12<00:00, 10.80it/s, loss=1.56]\n"
     ]
    },
    {
     "name": "stdout",
     "output_type": "stream",
     "text": [
      "Epoch [9/10], Training Loss: 1.5644\n",
      "Validation Loss: 1.3775, Accuracy: 51.93% , Best Val Loss: 1.38\n"
     ]
    },
    {
     "name": "stderr",
     "output_type": "stream",
     "text": [
      "Epoch [10/10]: 100%|██████████| 782/782 [01:12<00:00, 10.80it/s, loss=1.56]\n"
     ]
    },
    {
     "name": "stdout",
     "output_type": "stream",
     "text": [
      "Epoch [10/10], Training Loss: 1.5532\n",
      "Validation Loss: 1.3690, Accuracy: 51.28% , Best Val Loss: 1.38\n"
     ]
    }
   ],
   "source": [
    "best_model = regCNN().to(device)\n",
    "best_model.load_state_dict(torch.load(\"./model/Reg/best.pth\"))\n",
    "for layer in best_model.modules():\n",
    "    if isinstance(layer, nn.Conv2d):\n",
    "        for param in layer.parameters():\n",
    "            param.requires_grad = False\n",
    "\n",
    "train_loss_arr,val_loss_arr = train(best_model,15,3, cifar_train_loader, cifar_test_loader,'./model/cifar/')\n",
    "\n",
    "plot(train_loss_arr,'cifar_Train_loss')\n",
    "plot(val_loss_arr,'cifar_Val_loss')"
   ]
  },
  {
   "cell_type": "code",
   "execution_count": null,
   "metadata": {},
   "outputs": [
    {
     "name": "stdout",
     "output_type": "stream",
     "text": [
      "Validation Accuracy: 51.72%\n"
     ]
    }
   ],
   "source": [
    "test(regCNN(),'./model/cifar/best.pth',cifar_test_loader)"
   ]
  }
 ],
 "metadata": {
  "kernelspec": {
   "display_name": "Python 3",
   "language": "python",
   "name": "python3"
  },
  "language_info": {
   "codemirror_mode": {
    "name": "ipython",
    "version": 3
   },
   "file_extension": ".py",
   "mimetype": "text/x-python",
   "name": "python",
   "nbconvert_exporter": "python",
   "pygments_lexer": "ipython3",
   "version": "3.12.5"
  }
 },
 "nbformat": 4,
 "nbformat_minor": 2
}
